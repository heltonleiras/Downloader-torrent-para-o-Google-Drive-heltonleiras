{
  "nbformat": 4,
  "nbformat_minor": 0,
  "metadata": {
    "colab": {
      "name": "Downloader torrent para o Google Drive ||@heltonleiras.ipynb",
      "provenance": [],
      "authorship_tag": "ABX9TyOMXNeECzx+fMKk/Tc5jjxL",
      "include_colab_link": true
    },
    "kernelspec": {
      "name": "python3",
      "display_name": "Python 3"
    },
    "language_info": {
      "name": "python"
    }
  },
  "cells": [
    {
      "cell_type": "markdown",
      "metadata": {
        "id": "view-in-github",
        "colab_type": "text"
      },
      "source": [
        "<a href=\"https://colab.research.google.com/github/heltonleiras/Downloader-torrent-para-o-Google-Drive-heltonleiras/blob/main/Downloader_torrent_para_o_Google_Drive_%7C%7C%40heltonleiras.ipynb\" target=\"_parent\"><img src=\"https://colab.research.google.com/assets/colab-badge.svg\" alt=\"Open In Colab\"/></a>"
      ]
    },
    {
      "cell_type": "markdown",
      "source": [
        "# Downloader de torrent para o Google Drive | Siga @heltonleiras"
      ],
      "metadata": {
        "id": "lMY1urtUhWiq"
      }
    },
    {
      "cell_type": "markdown",
      "source": [
        "**Nota importante:**\n",
        "> Você terá cerca de 384 GB para baixar qualquer torrent que desejar."
      ],
      "metadata": {
        "id": "yuwHX-gjhg8l"
      }
    },
    {
      "cell_type": "markdown",
      "source": [
        "### Instale o libtorrent e inicialize a sessão | Siga @heltonleiras"
      ],
      "metadata": {
        "id": "BLtf4vyoiDCX"
      }
    },
    {
      "cell_type": "code",
      "source": [
        "!python -m pip install --upgrade pip setuptools wheel\n",
        "!python -m pip install lbry-libtorrent\n",
        "!apt install python3-libtorrent\n",
        "\n",
        "import libtorrent as lt\n",
        "\n",
        "ses = lt.session()\n",
        "ses.listen_on(6881, 6891)\n",
        "downloads = []"
      ],
      "metadata": {
        "id": "OVOnbHJxiXNX"
      },
      "execution_count": null,
      "outputs": []
    },
    {
      "cell_type": "markdown",
      "source": [
        "### Monte o Google Drive | Siga @heltonleiras\n",
        "Para transmitir arquivos, precisamos montar o Google Drive."
      ],
      "metadata": {
        "id": "SG8ue9qKiu8E"
      }
    },
    {
      "cell_type": "code",
      "source": [
        "from google.colab import files\n",
        "\n",
        "source = files.upload()\n",
        "params = {\n",
        "    \"save_path\": \"/content/drive/My Drive/Torrent\",\n",
        "    \"ti\": lt.torrent_info(list(source.keys())[0]),\n",
        "}\n",
        "downloads.append(ses.add_torrent(params))"
      ],
      "metadata": {
        "id": "GznIJzTZjKfs"
      },
      "execution_count": null,
      "outputs": []
    },
    {
      "cell_type": "markdown",
      "source": [
        "### Adicionar do link magnético | Siga @heltonleiras\n",
        "Você pode executar esta célula para adicionar mais arquivos quantas vezes quiser"
      ],
      "metadata": {
        "id": "Bv2zDa5DjOhq"
      }
    },
    {
      "cell_type": "code",
      "source": [
        "rom google.colab import drive\n",
        "\n",
        "drive.mount(\"/content/drive\")"
      ],
      "metadata": {
        "id": "NWzq7OxDi5fU"
      },
      "execution_count": null,
      "outputs": []
    },
    {
      "cell_type": "markdown",
      "source": [
        "### Fazer upload de magnet link se quiser | Siga @heltonleiras\n",
        "Você pode executar esta célula para adicionar mais arquivos quantas vezes quiser"
      ],
      "metadata": {
        "id": "7UYb38KUi9iP"
      }
    },
    {
      "cell_type": "code",
      "source": [
        "params = {\"save_path\": \"/content/drive/My Drive/Torrent\"}\n",
        "\n",
        "while True:\n",
        "    magnet_link = input(\"Insira o link magnético ou digite Sair: \")\n",
        "    if magnet_link.lower() == \"sair\":\n",
        "        break\n",
        "    downloads.append(\n",
        "        lt.add_magnet_uri(ses, magnet_link, params)\n",
        "    )\n"
      ],
      "metadata": {
        "id": "lrN6Bp10jayu"
      },
      "execution_count": null,
      "outputs": []
    },
    {
      "cell_type": "markdown",
      "source": [
        "### Iniciar download | Siga @heltonleiras"
      ],
      "metadata": {
        "id": "xc8IEprGjptv"
      }
    },
    {
      "cell_type": "code",
      "source": [
        "import time\n",
        "from IPython.display import display\n",
        "import ipywidgets as widgets\n",
        "\n",
        "state_str = [\n",
        "    \"na fila\",\n",
        "    \"verificando\",\n",
        "    \"baixando metadados\",\n",
        "    \"baixando\",\n",
        "    \"finalizado\",\n",
        "    \"semeando\",\n",
        "    \"alocando\",\n",
        "    \"verificando currículo rápido\",\n",
        "]\n",
        "\n",
        "layout = widgets.Layout(width=\"auto\")\n",
        "style = {\"description_width\": \"initial\"}\n",
        "download_bars = [\n",
        "    widgets.FloatSlider(\n",
        "        step=0.01, disabled=True, layout=layout, style=style\n",
        "    )\n",
        "    for _ in downloads\n",
        "]\n",
        "display(*download_bars)\n",
        "\n",
        "while downloads:\n",
        "    next_shift = 0\n",
        "    for index, download in enumerate(downloads[:]):\n",
        "        bar = download_bars[index + next_shift]\n",
        "        if not download.is_seed():\n",
        "            s = download.status()\n",
        "\n",
        "            bar.description = \" \".join(\n",
        "                [\n",
        "                    download.name(),\n",
        "                    str(s.download_rate / 1000),\n",
        "                    \"kB/s\",\n",
        "                    state_str[s.state],\n",
        "                ]\n",
        "            )\n",
        "            bar.value = s.progress * 100\n",
        "        else:\n",
        "            next_shift -= 1\n",
        "            ses.remove_torrent(download)\n",
        "            downloads.remove(download)\n",
        "            bar.close() # Siga meu instagram @heltonleiras\n",
        "            download_bars.remove(bar)\n",
        "            print(download.name(), \"complete\")\n",
        "    time.sleep(1)\n"
      ],
      "metadata": {
        "id": "IVfhQ7Yyjras"
      },
      "execution_count": null,
      "outputs": []
    }
  ]
}